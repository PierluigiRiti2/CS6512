{
  "cells": [
    {
      "cell_type": "markdown",
      "metadata": {
        "id": "view-in-github",
        "colab_type": "text"
      },
      "source": [
        "<a href=\"https://colab.research.google.com/github/PierluigiRiti2/CS6512/blob/main/CS6512_Etivity_1.ipynb\" target=\"_parent\"><img src=\"https://colab.research.google.com/assets/colab-badge.svg\" alt=\"Open In Colab\"/></a>"
      ]
    },
    {
      "cell_type": "markdown",
      "id": "b8e5ed62",
      "metadata": {
        "id": "b8e5ed62"
      },
      "source": [
        "<div>\n",
        "<img src=\"https://drive.google.com/uc?export=view&id=1vK33e_EqaHgBHcbRV_m38hx6IkG0blK_\" width=\"350\"/>\n",
        "</div> \n",
        "\n",
        "# **Artificial Intelligence - MSc**\n",
        "\n",
        "## CS6512 - AI & Data Science Ecosystems - Theory and Practice \n",
        "## SEM2 2021/2\n",
        "\n",
        "### CS6512 Etivity 1 - Implementing a Linear/Nonlinear Program in Python\n",
        "\n",
        "### Instructor: Emil Vassev\n",
        "March 29th, 2022\n",
        "<br><br>\n",
        "Copyright (C) 2022 - All rights reserved, do not copy or distribute without permission of the author.\n",
        "***"
      ]
    },
    {
      "cell_type": "markdown",
      "id": "6c2603d7",
      "metadata": {
        "id": "6c2603d7"
      },
      "source": [
        "## Submission Info\n",
        "### Student Name: <span style=\"color:red\">Pierluigi</span>\n",
        "### Student Surname: <span style=\"color:red\">Riti</span>\n",
        "### Student ID: <span style=\"color:red\">18213561</span>\n",
        "### Date of Final Submission: <span style=\"color:red\">TODO: put the date when you submitted for grading</span>\n",
        "***"
      ]
    },
    {
      "cell_type": "markdown",
      "id": "a2b8d751",
      "metadata": {
        "id": "a2b8d751"
      },
      "source": [
        "## Task\n",
        "In this e-tivity, you are asked to determine the components of a linear/non-linear programming problem, and then to implement in Python a program that will solve that problem by using the <b>scipy.optimize</b> library. Please, consult the lectures of Week #2 for more details on how we determine the components of a linear/non-linear programming problem and also, how we implement linear/non-linear programs in Python. The program you are going to implement is based on a real-life scenario, which is invented by the author of this assignment and thus, the numbers provided are fictive.\n",
        "## The real-life scenario\n",
        "Mazda Motor Corporation produces three models of its CX series: Mazda CX-3, Mazda CX-5, and Mazda CX-9. Market projections indicate an expected monthly demand of at least: 3500 cars of the CX-3 model, 5000 cars of the CX-5 model, and 2100 cars of the CX-9 model.  Due to insufficient production capacity, no more than 4000 cars can be made of model CX-3, no more than 7000 cars can be made of model CX-5, and no more than 2500 cars can be made of model CX-9. Due to existing contracts with car dealers worldwide, a total of at least 12000 cars must be produced each month. Here is the financial result calculated as production cost – selling cost per model: \n",
        "<li>CX-3: EUR 3400 profit</li> \n",
        "<li>CX-5: EUR 2500 loss</li>\n",
        "<li>CX-9: EUR 7200 profit</li>\n",
        "<br>\n",
        "How many cars of each Mazda CX model should be produced monthly, so to maximize the total net profit?  \n",
        "<br><br>\n",
        "<span style=\"color:blue\">The author of this assignment drives Mazda CX-5, 2021, and he loves it! He is convinced this car is undervalued. :)</span>"
      ]
    },
    {
      "cell_type": "markdown",
      "id": "903e119a",
      "metadata": {
        "id": "903e119a"
      },
      "source": [
        "## Here are the steps you need to follow:"
      ]
    },
    {
      "cell_type": "markdown",
      "id": "a2788722",
      "metadata": {
        "id": "a2788722"
      },
      "source": [
        "## Step 1: Determine the programming problem: linear or non-linear.  (5%)"
      ]
    },
    {
      "cell_type": "markdown",
      "id": "b7ad3798",
      "metadata": {
        "id": "b7ad3798"
      },
      "source": [
        "X_1 = Mazda CX-3 <br>\n",
        "X_2 = Mazda CX-5 <br>\n",
        "X_3 = Mazda CX-9 <br>\n",
        "\n",
        "Constraint: <br>\n",
        "X_1 >= 3500 real production X_1 = 4000 <br>\n",
        "X_2 >= 5000 real production X_2 = 7000 <br>\n",
        "X_3 >= 2100 real production X_3 = 2500 <br>\n",
        "\n",
        "Total of X_1 + X_2 + X_3 >= 12000 <br>\n",
        "\n",
        "Based on all the factor the problem is a _Linear Problem_ this because the decision variable are continuous, in the sense I need to improve the production continuosly for have the solutuion, I don't need to use a non-linear function to solve the problem\n",
        "\n",
        "\n",
        "\n"
      ]
    },
    {
      "cell_type": "markdown",
      "id": "6b20db4c",
      "metadata": {
        "id": "6b20db4c"
      },
      "source": [
        "## Step 2: Define the components of the LPP/NLPP tuple  <D, f, Fc , C, Cn, R, Tc>. (45%)"
      ]
    },
    {
      "cell_type": "markdown",
      "id": "ab29788f",
      "metadata": {
        "id": "ab29788f"
      },
      "source": [
        "### Step 2.1: D - Decision Variables (5%)"
      ]
    },
    {
      "cell_type": "markdown",
      "id": "dc9249ff",
      "metadata": {
        "id": "dc9249ff"
      },
      "source": [
        "X_1 = number of CX-3 </br>\n",
        "X_2 = number of CX-5 </br>\n",
        "X_3 = number of CX-9"
      ]
    },
    {
      "cell_type": "markdown",
      "id": "ee5b9a4b",
      "metadata": {
        "id": "ee5b9a4b"
      },
      "source": [
        "### Step 2.2: f - Objective Function (20%)"
      ]
    },
    {
      "cell_type": "markdown",
      "id": "273fa454",
      "metadata": {
        "id": "273fa454"
      },
      "source": [
        "Based on the description:\n",
        "How many cars of each Mazda CX model should be produced monthly, so to maximize the total net profit?\n",
        "\n",
        "**_max[z], z = 3400*X_1-2500*X_2+7200*X_3_**\n",
        "\n",
        "Because one variable is negative, we have a loss in the variable CX-5 have a loss of profit, we don't have a Standard Form, because of that I need to transform in the form, because of that I need to invert the value as well the value of the function, from Maximization to Minimization the final formnula in a standard form will be:\n",
        "\n",
        "**_min[z], -z= -3400*X_1' +2500*X_2'' -7200*X_3'''_** "
      ]
    },
    {
      "cell_type": "markdown",
      "id": "c0ecd215",
      "metadata": {
        "id": "c0ecd215"
      },
      "source": [
        "### Step 2.3: Fc - Objective Function Coefficients (3%)"
      ]
    },
    {
      "cell_type": "markdown",
      "id": "733c086d",
      "metadata": {
        "id": "733c086d"
      },
      "source": [
        "The object fucntion coefficients are:\n",
        "\n",
        "**_Fc={3400:X_1, -2500:X_2, 7200:X_3}_**"
      ]
    },
    {
      "cell_type": "markdown",
      "id": "c4a839dc",
      "metadata": {
        "id": "c4a839dc"
      },
      "source": [
        "### Step 2.4: C - Constraints (10%)"
      ]
    },
    {
      "cell_type": "markdown",
      "id": "19930204",
      "metadata": {
        "id": "19930204"
      },
      "source": [
        "\n",
        "C = {(4000*X_1+ 7000*X_2+ 25000*X_3)>=12000}<br>\n",
        "\n",
        "X_1 >= 3500, X_2 >= 5000, X_3 >= 2100 <br>\n"
      ]
    },
    {
      "cell_type": "markdown",
      "id": "69acd9ae",
      "metadata": {
        "id": "69acd9ae"
      },
      "source": [
        "### Step 2.5: Cn – Non-negative Constraints (3%) "
      ]
    },
    {
      "cell_type": "markdown",
      "id": "532900c7",
      "metadata": {
        "id": "532900c7"
      },
      "source": [
        "Cn = {X_1,X_2,X_3}"
      ]
    },
    {
      "cell_type": "markdown",
      "id": "d484e3ed",
      "metadata": {
        "id": "d484e3ed"
      },
      "source": [
        "### Step 2.6: R – Resource Availability (2%)"
      ]
    },
    {
      "cell_type": "markdown",
      "id": "8a422b58",
      "metadata": {
        "id": "8a422b58"
      },
      "source": [
        "R = {3500,4000,5000,7000,2100,2500}"
      ]
    },
    {
      "cell_type": "markdown",
      "id": "74d4adbf",
      "metadata": {
        "id": "74d4adbf"
      },
      "source": [
        "### Step 2.7: Tc – Technological Coefficients (2%)"
      ]
    },
    {
      "cell_type": "markdown",
      "id": "ef778b33",
      "metadata": {
        "id": "ef778b33"
      },
      "source": [
        "Tc = {1,1,1,1,1,1}"
      ]
    },
    {
      "cell_type": "markdown",
      "id": "e9de73a9",
      "metadata": {
        "id": "e9de73a9"
      },
      "source": [
        "## Step 3: Implement the LPP/NLPP in Python by using scipy.optimize as shown in the lectures. (50%) "
      ]
    },
    {
      "cell_type": "markdown",
      "id": "d4e74f18",
      "metadata": {
        "id": "d4e74f18"
      },
      "source": [
        "Use the <b>scipy.optimize</b> library to implement a program that will solve the linear/non-linear programming problem specified in Step 2. "
      ]
    },
    {
      "cell_type": "markdown",
      "id": "bd3ae2ef",
      "metadata": {
        "id": "bd3ae2ef"
      },
      "source": [
        "### Step 3.1: Implement the programming model. (40%)"
      ]
    },
    {
      "cell_type": "code",
      "execution_count": 7,
      "id": "c350d2fb",
      "metadata": {
        "id": "c350d2fb"
      },
      "outputs": [],
      "source": [
        "from scipy.optimize import minimize, linprog\n",
        "\n",
        "obj = [-3400, 2500, -7200] # objective variable\n",
        "\n",
        "lhs_ineq = [[1, 0, 0], [0, 1, 0], [0, 0, 1], [1, 1, 1]]\n",
        "\n",
        "rhs_ineq = [4000, 7000, 2500, 12000]\n",
        "\n",
        "# Bound for the variable X_1, X_2, X_3\n",
        "bnd = [(3500, 4000),  (5000, 7000),  (2100, 2500)]  "
      ]
    },
    {
      "cell_type": "markdown",
      "id": "9fc20d41",
      "metadata": {
        "id": "9fc20d41"
      },
      "source": [
        "### Step 3.2: Execute the programming model. (8%)"
      ]
    },
    {
      "cell_type": "code",
      "execution_count": 8,
      "id": "b4241adf",
      "metadata": {
        "id": "b4241adf"
      },
      "outputs": [],
      "source": [
        "opt = linprog(c=obj, A_ub=lhs_ineq, b_ub=rhs_ineq,\n",
        "              bounds=bnd,\n",
        "              method=\"revised simplex\")"
      ]
    },
    {
      "cell_type": "markdown",
      "id": "b6b85948",
      "metadata": {
        "id": "b6b85948"
      },
      "source": [
        "### Step 3.3: Show the result of your program's execution. (2%)"
      ]
    },
    {
      "cell_type": "code",
      "execution_count": 9,
      "id": "9c60a865",
      "metadata": {
        "colab": {
          "base_uri": "https://localhost:8080/"
        },
        "id": "9c60a865",
        "outputId": "46397cde-1355-4e2f-924f-762d89ce44af"
      },
      "outputs": [
        {
          "output_type": "stream",
          "name": "stdout",
          "text": [
            "     con: array([], dtype=float64)\n",
            "     fun: -19100000.0\n",
            " message: 'Optimization terminated successfully.'\n",
            "     nit: 2\n",
            "   slack: array([   0., 2000.,    0.,  500.])\n",
            "  status: 0\n",
            " success: True\n",
            "       x: array([4000., 5000., 2500.])\n"
          ]
        }
      ],
      "source": [
        "print(opt)"
      ]
    }
  ],
  "metadata": {
    "kernelspec": {
      "display_name": "Python 3 (ipykernel)",
      "language": "python",
      "name": "python3"
    },
    "language_info": {
      "codemirror_mode": {
        "name": "ipython",
        "version": 3
      },
      "file_extension": ".py",
      "mimetype": "text/x-python",
      "name": "python",
      "nbconvert_exporter": "python",
      "pygments_lexer": "ipython3",
      "version": "3.9.7"
    },
    "colab": {
      "name": "CS6512_Etivity_1.ipynb",
      "provenance": [],
      "collapsed_sections": [],
      "include_colab_link": true
    }
  },
  "nbformat": 4,
  "nbformat_minor": 5
}